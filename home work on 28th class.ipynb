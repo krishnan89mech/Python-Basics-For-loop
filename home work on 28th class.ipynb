{
 "cells": [
  {
   "cell_type": "code",
   "execution_count": null,
   "id": "1453d060",
   "metadata": {},
   "outputs": [],
   "source": [
    "q1"
   ]
  },
  {
   "cell_type": "code",
   "execution_count": 228,
   "id": "301e97be",
   "metadata": {
    "scrolled": true
   },
   "outputs": [
    {
     "name": "stdout",
     "output_type": "stream",
     "text": [
      "ineuron \n",
      "\n",
      "ineuron ineuron \n",
      "\n",
      "ineuron ineuron ineuron \n",
      "\n",
      "ineuron ineuron ineuron ineuron \n",
      "\n"
     ]
    }
   ],
   "source": [
    "for i in range(4):\n",
    "    for j in range(0,i+1):\n",
    "        print(\"ineuron\",end=\" \")\n",
    "    print(\"\\n\")"
   ]
  },
  {
   "cell_type": "code",
   "execution_count": null,
   "id": "3763cbb6",
   "metadata": {},
   "outputs": [],
   "source": [
    "q2"
   ]
  },
  {
   "cell_type": "code",
   "execution_count": 263,
   "id": "5dc4f8e3",
   "metadata": {},
   "outputs": [
    {
     "name": "stdout",
     "output_type": "stream",
     "text": [
      "                ineuron                 \n",
      "\n",
      "        ineuron         ineuron         \n",
      "\n",
      "ineuron         ineuron         ineuron \n",
      "\n",
      "        ineuron         ineuron         \n",
      "\n",
      "                ineuron                 \n",
      "\n"
     ]
    }
   ],
   "source": [
    "for i in range(5):\n",
    "    for j in range(5):\n",
    "        if i+j==2 or i+j==6 or ((i+j==4) and (i!=0 and j!=0)):\n",
    "            print(\"ineuron\", end=\" \")\n",
    "        else:\n",
    "            print(\" \"*len(\"ineuron\"), end=\" \")\n",
    "        \n",
    "    print(\"\\n\")"
   ]
  },
  {
   "cell_type": "code",
   "execution_count": 264,
   "id": "9cc8739e",
   "metadata": {},
   "outputs": [],
   "source": [
    "l=[[1,2,3,4],(2,3,4,5,6),(3,4,5,6,7),set([23,4,5,45,4,4,5,45,45,4,4,5]),{'k1':'sudh','k2':'ineuron','k3':'kumar',3:5,7:8},[\"ineuron\",\"data science\"]]"
   ]
  },
  {
   "cell_type": "markdown",
   "id": "3807a2ea",
   "metadata": {},
   "source": [
    "q3"
   ]
  },
  {
   "cell_type": "code",
   "execution_count": 270,
   "id": "507a735e",
   "metadata": {},
   "outputs": [
    {
     "name": "stdout",
     "output_type": "stream",
     "text": [
      "1\n",
      "2\n",
      "3\n",
      "4\n",
      "ineuron\n",
      "data science\n"
     ]
    }
   ],
   "source": [
    "for i in l:\n",
    "    if type(i)==list:\n",
    "        for j in i:\n",
    "             print(j)"
   ]
  },
  {
   "cell_type": "markdown",
   "id": "d2f57e14",
   "metadata": {},
   "source": [
    "q4"
   ]
  },
  {
   "cell_type": "code",
   "execution_count": 307,
   "id": "f740a9dd",
   "metadata": {},
   "outputs": [
    {
     "name": "stdout",
     "output_type": "stream",
     "text": [
      "k1\n",
      "sudh\n",
      "k2\n",
      "ineuron\n",
      "k3\n",
      "kumar\n",
      "3\n",
      "5\n",
      "7\n",
      "8\n"
     ]
    }
   ],
   "source": [
    "for i in l:\n",
    "    if type(i)==dict:\n",
    "        for j,k in i.items():\n",
    "            print(j)\n",
    "            print(k)\n",
    "        "
   ]
  },
  {
   "cell_type": "markdown",
   "id": "e1b711e2",
   "metadata": {},
   "source": [
    "q5"
   ]
  },
  {
   "cell_type": "code",
   "execution_count": 308,
   "id": "e60fca34",
   "metadata": {},
   "outputs": [
    {
     "data": {
      "text/plain": [
       "[[1, 2, 3, 4],\n",
       " (2, 3, 4, 5, 6),\n",
       " (3, 4, 5, 6, 7),\n",
       " {4, 5, 23, 45},\n",
       " {'k1': 'sudh', 'k2': 'ineuron', 'k3': 'kumar', 3: 5, 7: 8},\n",
       " ['ineuron', 'data science']]"
      ]
     },
     "execution_count": 308,
     "metadata": {},
     "output_type": "execute_result"
    }
   ],
   "source": [
    "l"
   ]
  },
  {
   "cell_type": "code",
   "execution_count": 309,
   "id": "e8423e06",
   "metadata": {},
   "outputs": [
    {
     "name": "stdout",
     "output_type": "stream",
     "text": [
      "2\n",
      "3\n",
      "4\n",
      "5\n",
      "6\n",
      "3\n",
      "4\n",
      "5\n",
      "6\n",
      "7\n"
     ]
    }
   ],
   "source": [
    "for i in l:\n",
    "    if type(i)==tuple:\n",
    "        for j in i:\n",
    "             print(j)"
   ]
  },
  {
   "cell_type": "markdown",
   "id": "b23e31c5",
   "metadata": {},
   "source": [
    "q6"
   ]
  },
  {
   "cell_type": "code",
   "execution_count": 310,
   "id": "d936b618",
   "metadata": {},
   "outputs": [
    {
     "data": {
      "text/plain": [
       "[[1, 2, 3, 4],\n",
       " (2, 3, 4, 5, 6),\n",
       " (3, 4, 5, 6, 7),\n",
       " {4, 5, 23, 45},\n",
       " {'k1': 'sudh', 'k2': 'ineuron', 'k3': 'kumar', 3: 5, 7: 8},\n",
       " ['ineuron', 'data science']]"
      ]
     },
     "execution_count": 310,
     "metadata": {},
     "output_type": "execute_result"
    }
   ],
   "source": [
    "l"
   ]
  },
  {
   "cell_type": "code",
   "execution_count": 312,
   "id": "9e2217d5",
   "metadata": {
    "scrolled": true
   },
   "outputs": [
    {
     "name": "stdout",
     "output_type": "stream",
     "text": [
      "k1\n",
      "k2\n",
      "k3\n",
      "3\n",
      "7\n"
     ]
    }
   ],
   "source": [
    "for i in l:\n",
    "    if type(i)==int or type(i)==dict:\n",
    "        for j in i:\n",
    "            print(j)"
   ]
  },
  {
   "cell_type": "markdown",
   "id": "18ed6249",
   "metadata": {},
   "source": []
  },
  {
   "cell_type": "code",
   "execution_count": 329,
   "id": "0af73665",
   "metadata": {},
   "outputs": [
    {
     "name": "stdout",
     "output_type": "stream",
     "text": [
      "1\n",
      "2\n",
      "3\n",
      "4\n",
      "2\n",
      "3\n",
      "4\n",
      "5\n",
      "6\n",
      "3\n",
      "4\n",
      "5\n",
      "6\n",
      "7\n",
      "45\n",
      "4\n",
      "5\n",
      "23\n",
      "3\n",
      "7\n",
      "5\n",
      "8\n"
     ]
    }
   ],
   "source": [
    "for i in l:\n",
    "        for j in i:\n",
    "            if type(j)==int and type(j)!=dict:\n",
    "                print(j)\n",
    "        if type(i)==dict:\n",
    "            for k,v in i.items():\n",
    "                if type(k)==int or type(v)==int:\n",
    "                    print(v)"
   ]
  },
  {
   "cell_type": "markdown",
   "id": "7127e0cd",
   "metadata": {},
   "source": [
    "q7"
   ]
  },
  {
   "cell_type": "code",
   "execution_count": 339,
   "id": "ccafa69a",
   "metadata": {},
   "outputs": [
    {
     "name": "stdout",
     "output_type": "stream",
     "text": [
      "summation of numerical value is: 155\n"
     ]
    }
   ],
   "source": [
    "l1=[]\n",
    "for i in l:\n",
    "        for j in i:\n",
    "            if type(j)==int and type(j)!=dict:\n",
    "                l1.append(j)\n",
    "        if type(i)==dict:\n",
    "            for k,v in i.items():\n",
    "                if type(k)==int or type(v)==int:\n",
    "                    l1.append(v)\n",
    "print(\"summation of numerical value is:\",sum(l1))"
   ]
  },
  {
   "cell_type": "markdown",
   "id": "d1dc7f76",
   "metadata": {},
   "source": [
    "q8"
   ]
  },
  {
   "cell_type": "code",
   "execution_count": 340,
   "id": "0cc91cab",
   "metadata": {},
   "outputs": [
    {
     "data": {
      "text/plain": [
       "[[1, 2, 3, 4],\n",
       " (2, 3, 4, 5, 6),\n",
       " (3, 4, 5, 6, 7),\n",
       " {4, 5, 23, 45},\n",
       " {'k1': 'sudh', 'k2': 'ineuron', 'k3': 'kumar', 3: 5, 7: 8},\n",
       " ['ineuron', 'data science']]"
      ]
     },
     "execution_count": 340,
     "metadata": {},
     "output_type": "execute_result"
    }
   ],
   "source": [
    "l"
   ]
  },
  {
   "cell_type": "code",
   "execution_count": 359,
   "id": "acb33023",
   "metadata": {},
   "outputs": [
    {
     "name": "stdout",
     "output_type": "stream",
     "text": [
      "1\n",
      "3\n"
     ]
    }
   ],
   "source": [
    "for i in l:\n",
    "    if type(i)==list:\n",
    "        for j in i:\n",
    "            if j==1 or j==3:\n",
    "                print(j)"
   ]
  },
  {
   "cell_type": "code",
   "execution_count": null,
   "id": "04a7eceb",
   "metadata": {},
   "outputs": [],
   "source": [
    "q9"
   ]
  },
  {
   "cell_type": "code",
   "execution_count": 360,
   "id": "18dc7f9c",
   "metadata": {},
   "outputs": [
    {
     "name": "stdout",
     "output_type": "stream",
     "text": [
      "ineuron\n"
     ]
    }
   ],
   "source": [
    "for i in l:\n",
    "    if type(i)==list:\n",
    "        for j in i:\n",
    "            if j==\"ineuron\":\n",
    "                print(j)"
   ]
  },
  {
   "cell_type": "code",
   "execution_count": null,
   "id": "ab83378f",
   "metadata": {},
   "outputs": [],
   "source": [
    "q10"
   ]
  },
  {
   "cell_type": "code",
   "execution_count": 375,
   "id": "2691c4bd",
   "metadata": {},
   "outputs": [
    {
     "name": "stdout",
     "output_type": "stream",
     "text": [
      "1 : 1\n",
      "2 : 2\n",
      "3 : 4\n",
      "4 : 4\n",
      "5 : 4\n",
      "6 : 2\n",
      "7 : 2\n",
      "k2 : 1\n",
      "sudh : 1\n",
      "8 : 1\n",
      "45 : 1\n",
      "data science : 1\n",
      "ineuron : 2\n",
      "23 : 1\n",
      "kumar : 1\n",
      "k1 : 1\n",
      "k3 : 1\n"
     ]
    }
   ],
   "source": [
    "l2=[]\n",
    "for i in l:\n",
    "    for j in i:\n",
    "        l2.append(j)\n",
    "    if type(i)==dict:\n",
    "        for k,v in i.items():\n",
    "            l2.append(v)\n",
    "for i in set(l2):\n",
    "    print(i,\":\",l2.count(i))"
   ]
  },
  {
   "cell_type": "code",
   "execution_count": null,
   "id": "d65376fe",
   "metadata": {},
   "outputs": [],
   "source": [
    "q11"
   ]
  },
  {
   "cell_type": "code",
   "execution_count": 413,
   "id": "16345127",
   "metadata": {},
   "outputs": [
    {
     "name": "stdout",
     "output_type": "stream",
     "text": [
      "5\n"
     ]
    }
   ],
   "source": [
    "b=0\n",
    "l3=[]\n",
    "for i in l:\n",
    "    if type(i)==dict:\n",
    "        for j in i:\n",
    "            l3.append(j)\n",
    "            b=b+l3.count(j)\n",
    "print(b)                "
   ]
  },
  {
   "cell_type": "code",
   "execution_count": null,
   "id": "93e48c08",
   "metadata": {},
   "outputs": [],
   "source": [
    "q12"
   ]
  },
  {
   "cell_type": "code",
   "execution_count": 421,
   "id": "d94aad78",
   "metadata": {
    "scrolled": true
   },
   "outputs": [
    {
     "name": "stdout",
     "output_type": "stream",
     "text": [
      "ineuron\n",
      "data science\n",
      "k1\n",
      "sudh\n",
      "k2\n",
      "ineuron\n",
      "k3\n",
      "kumar\n"
     ]
    }
   ],
   "source": [
    "for i in l:\n",
    "    if type(i)!=dict:\n",
    "        for j in i:\n",
    "            if type(j)==str:\n",
    "                print(j)\n",
    "for i in l:\n",
    "    if type(i)==dict:\n",
    "        for k,v in i.items():\n",
    "            if type(v)==str or type(k)==str:\n",
    "                print(k)\n",
    "                print(v)\n",
    "        "
   ]
  },
  {
   "cell_type": "code",
   "execution_count": null,
   "id": "f64cef39",
   "metadata": {},
   "outputs": [],
   "source": [
    "q13"
   ]
  },
  {
   "cell_type": "code",
   "execution_count": 430,
   "id": "021f12d0",
   "metadata": {
    "scrolled": true
   },
   "outputs": [
    {
     "name": "stdout",
     "output_type": "stream",
     "text": [
      "k1\n",
      "k2\n",
      "k3\n"
     ]
    }
   ],
   "source": [
    "for i in l:\n",
    "    if type(i)==dict:\n",
    "        for k in i:\n",
    "            if type(k)==str:\n",
    "                print(k)\n",
    "                \n",
    "        "
   ]
  },
  {
   "cell_type": "code",
   "execution_count": null,
   "id": "9995762a",
   "metadata": {},
   "outputs": [],
   "source": [
    "q14"
   ]
  },
  {
   "cell_type": "code",
   "execution_count": 450,
   "id": "b1379034",
   "metadata": {},
   "outputs": [
    {
     "name": "stdout",
     "output_type": "stream",
     "text": [
      "24\n",
      "720\n",
      "2520\n",
      "20700\n",
      "15\n",
      "56\n"
     ]
    }
   ],
   "source": [
    "n=1\n",
    "for i in l:\n",
    "    if type(i)!=dict:\n",
    "        for j in i:\n",
    "            if type(j)==int and type(j)!=str:\n",
    "                n=n*j\n",
    "    if type(i)==dict:\n",
    "            for k,v in i.items():\n",
    "                if type(k)==int and type(v)==int:\n",
    "                    n=n*k*v\n",
    "                    print(n)\n",
    "                    n=1\n",
    "    if n!=1:\n",
    "        print(n)\n",
    "    n=1"
   ]
  },
  {
   "cell_type": "code",
   "execution_count": null,
   "id": "1ed364e1",
   "metadata": {},
   "outputs": [],
   "source": [
    "q15"
   ]
  },
  {
   "cell_type": "code",
   "execution_count": 453,
   "id": "1d7e6737",
   "metadata": {},
   "outputs": [
    {
     "name": "stdout",
     "output_type": "stream",
     "text": [
      "[1, 2, 3, 4, 2, 3, 4, 5, 6, 3, 4, 5, 6, 7, 45, 4, 5, 23, 'ineuron', 'data science', 'k1', 'sudh', 'k2', 'ineuron', 'k3', 'kumar', 3, 5, 7, 8]\n"
     ]
    }
   ],
   "source": [
    "l5=[]\n",
    "for i in l:\n",
    "    if type(i)!=dict:\n",
    "        for j in i:\n",
    "            l5.append(j)\n",
    "for i in l:\n",
    "    if type(i)==dict:\n",
    "        for j,k in i.items():\n",
    "            l5.append(j)\n",
    "            l5.append(k)\n",
    "        \n",
    "print(l5)"
   ]
  },
  {
   "cell_type": "code",
   "execution_count": null,
   "id": "3d0a0e3d",
   "metadata": {},
   "outputs": [],
   "source": []
  }
 ],
 "metadata": {
  "kernelspec": {
   "display_name": "Python 3 (ipykernel)",
   "language": "python",
   "name": "python3"
  },
  "language_info": {
   "codemirror_mode": {
    "name": "ipython",
    "version": 3
   },
   "file_extension": ".py",
   "mimetype": "text/x-python",
   "name": "python",
   "nbconvert_exporter": "python",
   "pygments_lexer": "ipython3",
   "version": "3.9.12"
  }
 },
 "nbformat": 4,
 "nbformat_minor": 5
}
